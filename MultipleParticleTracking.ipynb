{
 "cells": [
  {
   "cell_type": "markdown",
   "id": "2be19bbc",
   "metadata": {},
   "source": [
    "# IMPORTACIONES Y DEFINICIONES\n",
    "\n",
    "Importar librerías y definir funciones:\n",
    "(En as_gray la conversión de RGB a 8bit tiene esa partición para intentar tomar los aguamarina que aparecen como blancos en lo posible)"
   ]
  },
  {
   "cell_type": "code",
   "execution_count": null,
   "id": "f57cbd03",
   "metadata": {},
   "outputs": [],
   "source": [
    "#!/usr/bin/env python3\n",
    "# -*- coding: utf-8 -*-\n",
    "\"\"\"\n",
    "@author: raulrica\n",
    "\"\"\"\n",
    "\n",
    "from scipy.optimize import curve_fit\n",
    "from scipy import constants as cons\n",
    "\n",
    "import numpy as np\n",
    "import pandas as pd\n",
    "from pandas import DataFrame, Series  # for convenience\n",
    "\n",
    "import matplotlib as mpl\n",
    "import matplotlib.pyplot as plt\n",
    "\n",
    "import pims\n",
    "import trackpy as tp\n",
    "\n",
    "\n",
    "def fitf(x, a, b):\n",
    "    return a*x**b\n",
    "\n",
    "@pims.pipeline\n",
    "def as_gray(frame):\n",
    "    red = frame[:, :, 0]\n",
    "    green = frame[:, :, 1]\n",
    "    blue = frame[:, :, 2]\n",
    "    return 0.2*red + 0.4*green + 0.4*blue "
   ]
  },
  {
   "cell_type": "markdown",
   "id": "9921c9f3",
   "metadata": {},
   "source": [
    "# PARTE DE TUNEAR PARAMETROS\n",
    "\n",
    "Leemos el video y mostramos el primer fotograma de forma interactiva para tener una estimación del tamaño (en pixeles) de las particulas"
   ]
  },
  {
   "cell_type": "code",
   "execution_count": null,
   "id": "1e2bb652",
   "metadata": {
    "scrolled": false
   },
   "outputs": [],
   "source": [
    "vsrc = '/home/raulrica/Documentos/TESTS/Janus/agua 1.avi'\n",
    "\n",
    "# Si la fuente es una serie de imagenes (.tif por ejemplo):\n",
    "\n",
    "#vsrc = '/home/raulrica/Documentos/TESTS/Janus/*.tif'\n",
    "\n",
    "frames = as_gray(pims.open(vsrc))  #Si la imagen es en RGB\n",
    "#frames = as_gray(pims.open(vsrc)) #Si la imagen es en blanco y negro\n",
    "%matplotlib notebook\n",
    "plt.imshow(frames[0], cmap='gray')"
   ]
  },
  {
   "cell_type": "markdown",
   "id": "32a1e7ac",
   "metadata": {},
   "source": [
    "Introducimos tamaño de particula (impar y mejor sobreestimado que subestimado)\n",
    "\n",
    "Detectamos objetos en el primer frame y vemos distribucion de masa y tamaño para poder filtrar luego"
   ]
  },
  {
   "cell_type": "code",
   "execution_count": null,
   "id": "950df943",
   "metadata": {},
   "outputs": [],
   "source": [
    "ps = 17\n",
    "\n",
    "f = tp.locate(frames[0], ps, invert=True)\n",
    "\n",
    "# Descomentar para enseñar foto con la deteccion preliminar sin filtrar\n",
    "\n",
    "%matplotlib inline\n",
    "#plt.figure()\n",
    "#plt.title('Unfiltered')\n",
    "#tp.annotate(f, frames[0])\n",
    "\n",
    "plt.figure()\n",
    "ax = plt.axes()\n",
    "ax.hist(f['mass'], bins=50)\n",
    "ax.set(title='mass distribution')\n",
    "\n",
    "plt.figure()\n",
    "ax = plt.axes()\n",
    "ax.hist(f['size'], bins=50)\n",
    "ax.set(title='size distribution')\n",
    "\n",
    "#plt.figure()\n",
    "#ax = plt.axes()\n",
    "#ax.hist(f['ecc'], bins=50)\n",
    "#ax.set(title='Eccentricity distribution')"
   ]
  },
  {
   "cell_type": "markdown",
   "id": "387c2525",
   "metadata": {},
   "source": [
    "Filtramos partículas por\n",
    "\n",
    "- Brillo (masa)\n",
    "- Tamaño\n",
    "- Excentricidad\n",
    "- ..."
   ]
  },
  {
   "cell_type": "code",
   "execution_count": null,
   "id": "9130ee2e",
   "metadata": {},
   "outputs": [],
   "source": [
    "minmass = 250\n",
    "\n",
    "minsize = 3.5\n",
    "maxsize = 5.0\n",
    "\n",
    "#minecc  = 0.2\n",
    "#maxecc  = 1e6\n",
    "\n",
    "f = tp.locate(frames[0], ps, invert=True, minmass=minmass)\n",
    "f = f.loc[((f['size'] > minsize) & (f['size'] < maxsize))]\n",
    "#f = f.loc[((f['ecc'] > minecc) & (f['ecc'] < maxecc))]\n",
    "\n",
    "%matplotlib notebook\n",
    "plt.figure()\n",
    "plt.title('Filtered')\n",
    "tp.annotate(f, frames[0])"
   ]
  },
  {
   "cell_type": "markdown",
   "id": "15bbf6cf",
   "metadata": {},
   "source": [
    "# PARTE BULKY Y LENTA\n",
    "\n",
    "Con todos los parametros en cuenta analizamos la parte del video que nos interese (sf = 0 ; ef = -1 para video completo)\n",
    "\n",
    "El parametro mem será el que determine cuantos fotogramas puede estar perdida una partícula antes de reaparecer para ser considerada como otra distinta.\n",
    "\n",
    "También lo usaremos para filtrar trayectorias de partículas que hayan permanecido en el video durante menos de mem fotogramas"
   ]
  },
  {
   "cell_type": "code",
   "execution_count": null,
   "id": "c7c45cb2",
   "metadata": {},
   "outputs": [],
   "source": [
    "sf  = 0\n",
    "ef  = 50\n",
    "mem = 30 \n",
    "\n",
    "f = tp.batch(frames[sf:ef], ps, minmass=minmass, invert=True)\n",
    "f = f.loc[((f['size'] > minsize) & (f['size'] < maxsize))]\n",
    "#f = f.loc[((f['ecc'] > minecc) & (f['ecc'] < maxecc))]\n",
    "\n",
    "t = tp.link(f, int(ps/2), memory=mem)\n",
    "\n",
    "plt.figure()\n",
    "plt.title('All trajectories')\n",
    "tp.plot_traj(t)\n",
    "\n",
    "t = tp.filter_stubs(t, mem)\n",
    "\n",
    "plt.figure()\n",
    "plt.title('Persistent Trajectories')\n",
    "tp.plot_traj(t)"
   ]
  },
  {
   "cell_type": "markdown",
   "id": "eaa8b886",
   "metadata": {},
   "source": [
    "# POSTPROCESADO DE TRAYECTORIAS\n",
    "\n",
    "Introducimos los datos para calcular MSDs de las partículas"
   ]
  },
  {
   "cell_type": "code",
   "execution_count": null,
   "id": "19094eee",
   "metadata": {},
   "outputs": [],
   "source": [
    "mpp = 1/15  #microns per pixel\n",
    "fps = 14    #frames per second"
   ]
  },
  {
   "cell_type": "code",
   "execution_count": null,
   "id": "46c82d9d",
   "metadata": {},
   "outputs": [],
   "source": [
    "im = tp.imsd(t, mpp, fps)\n",
    "\n",
    "%matplotlib inline\n",
    "fig, ax = plt.subplots()\n",
    "for col in im.columns:\n",
    "    ax.plot(im[col], alpha=0.1)\n",
    "ax.set(ylabel=r'$\\langle \\Delta r^2 \\rangle$ [$\\mu$m$^2$]',\n",
    "       xlabel='lag time $t$')\n",
    "ax.set_xscale('log')\n",
    "ax.set_yscale('log')"
   ]
  },
  {
   "cell_type": "code",
   "execution_count": null,
   "id": "137dd236",
   "metadata": {},
   "outputs": [],
   "source": [
    "em  = tp.emsd(t, mpp, fps)\n",
    "dt  = em.index.values\n",
    "msd = em[:]\n",
    "\n",
    "params, covar = curve_fit(fitf, dt, msd, p0 = (1, 1))\n",
    "dtext = np.arange(np.min(dt),np.max(dt),0.001)\n",
    "perr = np.sum(np.trace(covar))\n",
    "\n",
    "fig, ax = plt.subplots()\n",
    "ax.plot(em.index, em, 'bo', alpha = 0.1)\n",
    "ax.plot(dtext,fitf(dtext, *params),'k-')  \n",
    "ax.set(ylabel = r'$\\langle \\Delta r^2 \\rangle$ [$\\mu$m$^2$]',\n",
    "       xlabel = 'lag time $t$',\n",
    "       title  = 'Ensemble MSD')\n",
    "ax.set_xscale('log')\n",
    "ax.set_yscale('log')"
   ]
  },
  {
   "cell_type": "markdown",
   "id": "91116c92",
   "metadata": {},
   "source": [
    "Calculos extra"
   ]
  },
  {
   "cell_type": "code",
   "execution_count": null,
   "id": "48f9ed60",
   "metadata": {},
   "outputs": [],
   "source": [
    "A    = params[0]\n",
    "D    = 1e-12*A/4\n",
    "dia  = 1e-6      #m\n",
    "r    = dia/2     #m\n",
    "T    = 288       #K \n",
    "\n",
    "visc = cons.k*T/(6*cons.pi*D*r)\n",
    "\n",
    "print('Viscosity:',visc*1000,'cps')"
   ]
  },
  {
   "cell_type": "code",
   "execution_count": null,
   "id": "6d7e5dbf",
   "metadata": {},
   "outputs": [],
   "source": []
  }
 ],
 "metadata": {
  "kernelspec": {
   "display_name": "Python 3 (ipykernel)",
   "language": "python",
   "name": "python3"
  },
  "language_info": {
   "codemirror_mode": {
    "name": "ipython",
    "version": 3
   },
   "file_extension": ".py",
   "mimetype": "text/x-python",
   "name": "python",
   "nbconvert_exporter": "python",
   "pygments_lexer": "ipython3",
   "version": "3.9.7"
  }
 },
 "nbformat": 4,
 "nbformat_minor": 5
}
